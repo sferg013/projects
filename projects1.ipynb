{
 "cells": [
  {
   "cell_type": "code",
   "execution_count": 26,
   "metadata": {},
   "outputs": [
    {
     "name": "stdout",
     "output_type": "stream",
     "text": [
      "rock, paper, sissors\n",
      "you did rock\n",
      "bot did paper\n"
     ]
    },
    {
     "data": {
      "text/plain": [
       "'you loose'"
      ]
     },
     "execution_count": 26,
     "metadata": {},
     "output_type": "execute_result"
    }
   ],
   "source": [
    "import random\n",
    "def rps():\n",
    "    print(\"rock, paper, sissors\")\n",
    "    hand = input(\"choose 1 for rock, 2 for paper, and 3 for sissors\")\n",
    "    hand = int(hand)\n",
    "    handBot = random.randrange(1,4,1)\n",
    "    handStr = ''\n",
    "    handBotStr = ''\n",
    "    if hand == 1:\n",
    "        handStr = \"rock\"\n",
    "    if hand == 2:\n",
    "        handStr = \"paper\"\n",
    "    if hand == 3:\n",
    "        handStr = \"sissors\"\n",
    "    if handBot == 1:\n",
    "        handBotStr = \"rock\"\n",
    "    if handBot == 2:\n",
    "        handBotStr = \"paper\"\n",
    "    if handBot == 3:\n",
    "        handBotStr = \"sissors\"\n",
    "    print(\"you did \"+handStr)\n",
    "    print(\"bot did \"+handBotStr)\n",
    "    if int(hand)== handBot:\n",
    "        print(\"Its a Tie, try again\")\n",
    "        return rps()\n",
    "    elif (hand == 1 and handBot == 3) or (hand == 2 and handBot == 1) or (hand == 3 and handBot == 2):\n",
    "        return \"you win\"\n",
    "    else:\n",
    "        return \"you loose\"\n",
    "\n",
    "rps()"
   ]
  },
  {
   "cell_type": "code",
   "execution_count": null,
   "metadata": {},
   "outputs": [],
   "source": []
  }
 ],
 "metadata": {
  "kernelspec": {
   "display_name": "Python 3",
   "language": "python",
   "name": "python3"
  },
  "language_info": {
   "codemirror_mode": {
    "name": "ipython",
    "version": 3
   },
   "file_extension": ".py",
   "mimetype": "text/x-python",
   "name": "python",
   "nbconvert_exporter": "python",
   "pygments_lexer": "ipython3",
   "version": "3.11.8"
  }
 },
 "nbformat": 4,
 "nbformat_minor": 2
}
