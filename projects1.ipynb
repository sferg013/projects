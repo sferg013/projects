{
 "cells": [
  {
   "cell_type": "code",
   "execution_count": 26,
   "metadata": {},
   "outputs": [
    {
     "name": "stdout",
     "output_type": "stream",
     "text": [
      "rock, paper, sissors\n",
      "you did rock\n",
      "bot did paper\n"
     ]
    },
    {
     "data": {
      "text/plain": [
       "'you loose'"
      ]
     },
     "execution_count": 26,
     "metadata": {},
     "output_type": "execute_result"
    }
   ],
   "source": [
    "import random\n",
    "def rps():\n",
    "    print(\"rock, paper, sissors\")\n",
    "    hand = input(\"choose 1 for rock, 2 for paper, and 3 for sissors\")\n",
    "    hand = int(hand)\n",
    "    handBot = random.randrange(1,4,1)\n",
    "    handStr = ''\n",
    "    handBotStr = ''\n",
    "    if hand == 1:\n",
    "        handStr = \"rock\"\n",
    "    if hand == 2:\n",
    "        handStr = \"paper\"\n",
    "    if hand == 3:\n",
    "        handStr = \"sissors\"\n",
    "    if handBot == 1:\n",
    "        handBotStr = \"rock\"\n",
    "    if handBot == 2:\n",
    "        handBotStr = \"paper\"\n",
    "    if handBot == 3:\n",
    "        handBotStr = \"sissors\"\n",
    "    print(\"you did \"+handStr)\n",
    "    print(\"bot did \"+handBotStr)\n",
    "    if int(hand)== handBot:\n",
    "        print(\"Its a Tie, try again\")\n",
    "        return rps()\n",
    "    elif (hand == 1 and handBot == 3) or (hand == 2 and handBot == 1) or (hand == 3 and handBot == 2):\n",
    "        return \"you win\"\n",
    "    else:\n",
    "        return \"you loose\"\n",
    "\n",
    "rps()"
   ]
  },
  {
   "cell_type": "code",
   "execution_count": 15,
   "metadata": {},
   "outputs": [
    {
     "name": "stdout",
     "output_type": "stream",
     "text": [
      "welcome to tic tac toe\n",
      "Round 1\n",
      "[0, 0, 0]\n",
      "[0, 0, 0]\n",
      "[0, 0, 0]\n",
      "player 1: \n",
      "player 2: \n",
      "Round 2\n",
      "[1, 0, 0]\n",
      "[0, 0, 0]\n",
      "[2, 0, 0]\n",
      "player 1: \n",
      "player 2: \n",
      "Round 3\n",
      "[1, 0, 0]\n",
      "[0, 1, 0]\n",
      "[2, 2, 0]\n",
      "player 1: \n",
      "Player 1 wins\n",
      "[1, 0, 0]\n",
      "[0, 1, 0]\n",
      "[2, 2, 1]\n"
     ]
    }
   ],
   "source": [
    "cnt=1\n",
    "def TicTT(L,cnt):\n",
    "    print(\"Round \"+str(cnt))\n",
    "    j=0\n",
    "    for j in range(len(L)):\n",
    "        print(L[j])\n",
    "    print(\"player 1: \")\n",
    "    a,b=coords(L,1)\n",
    "\n",
    "    L[a][b]=1\n",
    "    if win(L):\n",
    "        return\n",
    "    #for k in range(len(L)):\n",
    "     #   print(L[k])\n",
    "    print(\"player 2: \")\n",
    "    c,d=coords(L,2)\n",
    "\n",
    "    L[c][d]=2\n",
    "    if win(L):\n",
    "        return\n",
    "        \n",
    "    cnt=cnt+1\n",
    "    TicTT(L,cnt)\n",
    "def coords(L,n):\n",
    "    x=int(input(\"Player \"+str(n) +\" First coord\"))\n",
    "    y=int(input(\"Player \"+str(n) +\" second coord\"))\n",
    "    if L[x][y]==0:\n",
    "        return(x,y)\n",
    "    else:\n",
    "        print(\"try again\")\n",
    "    return coords(L,n)\n",
    "\n",
    "    #winning cases: exact points = true but want more effecent less lines of code\n",
    "\n",
    "def win(L):\n",
    "    for p in [1, 2]:\n",
    "        # Check rows and columns\n",
    "        for i in range(3):\n",
    "            if all(L[i][j] == p for j in range(3)) or all(L[j][i] == p for j in range(3)):\n",
    "                print(f\"Player {p} wins\")\n",
    "                for k in range(len(L)):\n",
    "                    print(L[k])\n",
    "                return True\n",
    "\n",
    "        # Check diagonals\n",
    "        if all(L[i][i] == p for i in range(3)) or all(L[i][2 - i] == p for i in range(3)):\n",
    "            print(f\"Player {p} wins\")\n",
    "            for k in range(len(L)):\n",
    "                print(L[k])\n",
    "            return True\n",
    "\n",
    "    return False\n",
    "\n",
    "print(\"welcome to tic tac toe\")\n",
    "L =[[0,0,0],[0,0,0],[0,0,0]]\n",
    "TicTT(L,cnt)"
   ]
  }
 ],
 "metadata": {
  "kernelspec": {
   "display_name": "Python 3",
   "language": "python",
   "name": "python3"
  },
  "language_info": {
   "codemirror_mode": {
    "name": "ipython",
    "version": 3
   },
   "file_extension": ".py",
   "mimetype": "text/x-python",
   "name": "python",
   "nbconvert_exporter": "python",
   "pygments_lexer": "ipython3",
   "version": "3.11.8"
  }
 },
 "nbformat": 4,
 "nbformat_minor": 2
}
